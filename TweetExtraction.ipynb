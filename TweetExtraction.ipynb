{
  "nbformat": 4,
  "nbformat_minor": 0,
  "metadata": {
    "accelerator": "GPU",
    "colab": {
      "name": "TweetExtraction.ipynb",
      "provenance": [],
      "collapsed_sections": []
    },
    "kernelspec": {
      "display_name": "Python 3",
      "name": "python3"
    }
  },
  "cells": [
    {
      "cell_type": "code",
      "metadata": {
        "id": "ncsPZmlNhcDn"
      },
      "source": [
        "import tensorflow as tf\n",
        "import pandas as pd\n",
        "import numpy as np\n"
      ],
      "execution_count": null,
      "outputs": []
    },
    {
      "cell_type": "code",
      "metadata": {
        "id": "ZUU21uQohh4e"
      },
      "source": [
        "data=pd.read_csv('/content/drive/MyDrive/dataset/tweet-sentiment-extraction/tweet-sentiment-extraction.csv')"
      ],
      "execution_count": null,
      "outputs": []
    },
    {
      "cell_type": "code",
      "metadata": {
        "id": "mHMg1bMQhyS-"
      },
      "source": [
        "data.drop(columns=['textID'],inplace=True)"
      ],
      "execution_count": null,
      "outputs": []
    },
    {
      "cell_type": "code",
      "metadata": {
        "id": "FZIfG7urJ1Ei",
        "colab": {
          "base_uri": "https://localhost:8080/",
          "height": 419
        },
        "outputId": "256eb0b1-cf14-4d35-c443-e05d19d51afb"
      },
      "source": [
        "data"
      ],
      "execution_count": null,
      "outputs": [
        {
          "output_type": "execute_result",
          "data": {
            "text/html": [
              "<div>\n",
              "<style scoped>\n",
              "    .dataframe tbody tr th:only-of-type {\n",
              "        vertical-align: middle;\n",
              "    }\n",
              "\n",
              "    .dataframe tbody tr th {\n",
              "        vertical-align: top;\n",
              "    }\n",
              "\n",
              "    .dataframe thead th {\n",
              "        text-align: right;\n",
              "    }\n",
              "</style>\n",
              "<table border=\"1\" class=\"dataframe\">\n",
              "  <thead>\n",
              "    <tr style=\"text-align: right;\">\n",
              "      <th></th>\n",
              "      <th>text</th>\n",
              "      <th>selected_text</th>\n",
              "      <th>sentiment</th>\n",
              "    </tr>\n",
              "  </thead>\n",
              "  <tbody>\n",
              "    <tr>\n",
              "      <th>0</th>\n",
              "      <td>I`d have responded, if I were going</td>\n",
              "      <td>I`d have responded, if I were going</td>\n",
              "      <td>neutral</td>\n",
              "    </tr>\n",
              "    <tr>\n",
              "      <th>1</th>\n",
              "      <td>Sooo SAD I will miss you here in San Diego!!!</td>\n",
              "      <td>Sooo SAD</td>\n",
              "      <td>negative</td>\n",
              "    </tr>\n",
              "    <tr>\n",
              "      <th>2</th>\n",
              "      <td>my boss is bullying me...</td>\n",
              "      <td>bullying me</td>\n",
              "      <td>negative</td>\n",
              "    </tr>\n",
              "    <tr>\n",
              "      <th>3</th>\n",
              "      <td>what interview! leave me alone</td>\n",
              "      <td>leave me alone</td>\n",
              "      <td>negative</td>\n",
              "    </tr>\n",
              "    <tr>\n",
              "      <th>4</th>\n",
              "      <td>Sons of ****, why couldn`t they put them on t...</td>\n",
              "      <td>Sons of ****,</td>\n",
              "      <td>negative</td>\n",
              "    </tr>\n",
              "    <tr>\n",
              "      <th>...</th>\n",
              "      <td>...</td>\n",
              "      <td>...</td>\n",
              "      <td>...</td>\n",
              "    </tr>\n",
              "    <tr>\n",
              "      <th>27476</th>\n",
              "      <td>wish we could come see u on Denver  husband l...</td>\n",
              "      <td>d lost</td>\n",
              "      <td>negative</td>\n",
              "    </tr>\n",
              "    <tr>\n",
              "      <th>27477</th>\n",
              "      <td>I`ve wondered about rake to.  The client has ...</td>\n",
              "      <td>, don`t force</td>\n",
              "      <td>negative</td>\n",
              "    </tr>\n",
              "    <tr>\n",
              "      <th>27478</th>\n",
              "      <td>Yay good for both of you. Enjoy the break - y...</td>\n",
              "      <td>Yay good for both of you.</td>\n",
              "      <td>positive</td>\n",
              "    </tr>\n",
              "    <tr>\n",
              "      <th>27479</th>\n",
              "      <td>But it was worth it  ****.</td>\n",
              "      <td>But it was worth it  ****.</td>\n",
              "      <td>positive</td>\n",
              "    </tr>\n",
              "    <tr>\n",
              "      <th>27480</th>\n",
              "      <td>All this flirting going on - The ATG smiles...</td>\n",
              "      <td>All this flirting going on - The ATG smiles. Y...</td>\n",
              "      <td>neutral</td>\n",
              "    </tr>\n",
              "  </tbody>\n",
              "</table>\n",
              "<p>27481 rows × 3 columns</p>\n",
              "</div>"
            ],
            "text/plain": [
              "                                                    text  ... sentiment\n",
              "0                    I`d have responded, if I were going  ...   neutral\n",
              "1          Sooo SAD I will miss you here in San Diego!!!  ...  negative\n",
              "2                              my boss is bullying me...  ...  negative\n",
              "3                         what interview! leave me alone  ...  negative\n",
              "4       Sons of ****, why couldn`t they put them on t...  ...  negative\n",
              "...                                                  ...  ...       ...\n",
              "27476   wish we could come see u on Denver  husband l...  ...  negative\n",
              "27477   I`ve wondered about rake to.  The client has ...  ...  negative\n",
              "27478   Yay good for both of you. Enjoy the break - y...  ...  positive\n",
              "27479                         But it was worth it  ****.  ...  positive\n",
              "27480     All this flirting going on - The ATG smiles...  ...   neutral\n",
              "\n",
              "[27481 rows x 3 columns]"
            ]
          },
          "metadata": {
            "tags": []
          },
          "execution_count": 4
        }
      ]
    },
    {
      "cell_type": "code",
      "metadata": {
        "colab": {
          "base_uri": "https://localhost:8080/"
        },
        "id": "8v60_ImJh7Cm",
        "outputId": "1734c806-a479-4430-93d2-a29b20818dc1"
      },
      "source": [
        "data['sentiment'].value_counts()"
      ],
      "execution_count": null,
      "outputs": [
        {
          "output_type": "execute_result",
          "data": {
            "text/plain": [
              "neutral     11118\n",
              "positive     8582\n",
              "negative     7781\n",
              "Name: sentiment, dtype: int64"
            ]
          },
          "metadata": {
            "tags": []
          },
          "execution_count": 4
        }
      ]
    },
    {
      "cell_type": "code",
      "metadata": {
        "id": "OTjscIQNvBAt"
      },
      "source": [
        "new_data=data.drop(314)"
      ],
      "execution_count": null,
      "outputs": []
    },
    {
      "cell_type": "code",
      "metadata": {
        "id": "NlMbxFF5vTUr"
      },
      "source": [
        "data1=new_data.reset_index()"
      ],
      "execution_count": null,
      "outputs": []
    },
    {
      "cell_type": "code",
      "metadata": {
        "id": "ze1cvOj_uJvU"
      },
      "source": [
        "list1=[]\n",
        "for i in data1['text']:\n",
        "  list1.append(i.lstrip())"
      ],
      "execution_count": null,
      "outputs": []
    },
    {
      "cell_type": "code",
      "metadata": {
        "id": "iwugcbznv1L3"
      },
      "source": [
        "data1['text1']=list1"
      ],
      "execution_count": null,
      "outputs": []
    },
    {
      "cell_type": "code",
      "metadata": {
        "id": "OKztqcuvv4pV"
      },
      "source": [
        "data1.drop(columns=['index','text'],inplace=True)\n"
      ],
      "execution_count": null,
      "outputs": []
    },
    {
      "cell_type": "code",
      "metadata": {
        "id": "oTHjo1-XwD0m"
      },
      "source": [
        "list2=[]\n",
        "for i,j in  zip(data1['text1'],data1['selected_text']):\n",
        "  k=j.split()\n",
        "  list2.append(i.find(k[0]))"
      ],
      "execution_count": null,
      "outputs": []
    },
    {
      "cell_type": "code",
      "metadata": {
        "id": "OD9kmhZuyL5D"
      },
      "source": [
        "list3=[]\n",
        "for i in list2:\n",
        "  list3.append(i+1)"
      ],
      "execution_count": null,
      "outputs": []
    },
    {
      "cell_type": "code",
      "metadata": {
        "id": "R3yuIJx6yaT8"
      },
      "source": [
        "list4=[]\n",
        "for i in data1['selected_text']:\n",
        "  k=len(i)\n",
        "  list4.append(k)\n"
      ],
      "execution_count": null,
      "outputs": []
    },
    {
      "cell_type": "code",
      "metadata": {
        "id": "GqLazE-m05a3"
      },
      "source": [
        "data1['sentiment'].replace({'neutral':1,'positive':2,'negative':0},inplace=True)"
      ],
      "execution_count": null,
      "outputs": []
    },
    {
      "cell_type": "code",
      "metadata": {
        "id": "rchvddjE14K-"
      },
      "source": [
        "import re\n",
        "def preprocess(w):\n",
        "  w=w.lower()\n",
        "  w=w.strip()\n",
        "  return w"
      ],
      "execution_count": null,
      "outputs": []
    },
    {
      "cell_type": "code",
      "metadata": {
        "id": "y10i4E788r9e"
      },
      "source": [
        "data1['preprocesed1']=list(map(preprocess,data1['text1']))\n",
        "data1['preprocesed2']=list(map(preprocess,data1['selected_text']))"
      ],
      "execution_count": null,
      "outputs": []
    },
    {
      "cell_type": "code",
      "metadata": {
        "id": "znHhqo1C825C"
      },
      "source": [
        "data1.drop(columns=['selected_text','text1'],inplace=True)"
      ],
      "execution_count": null,
      "outputs": []
    },
    {
      "cell_type": "code",
      "metadata": {
        "colab": {
          "base_uri": "https://localhost:8080/"
        },
        "id": "vuVNPOc_9fz1",
        "outputId": "c820dff6-6cc5-48ea-9a73-290ebc315ec8"
      },
      "source": [
        "! pip install transformers\n",
        "from transformers import DistilBertTokenizerFast\n",
        "tokenizer = DistilBertTokenizerFast.from_pretrained('distilbert-base-uncased')"
      ],
      "execution_count": null,
      "outputs": [
        {
          "output_type": "stream",
          "text": [
            "Requirement already satisfied: transformers in /usr/local/lib/python3.6/dist-packages (4.2.2)\n",
            "Requirement already satisfied: sacremoses in /usr/local/lib/python3.6/dist-packages (from transformers) (0.0.43)\n",
            "Requirement already satisfied: regex!=2019.12.17 in /usr/local/lib/python3.6/dist-packages (from transformers) (2019.12.20)\n",
            "Requirement already satisfied: packaging in /usr/local/lib/python3.6/dist-packages (from transformers) (20.8)\n",
            "Requirement already satisfied: tokenizers==0.9.4 in /usr/local/lib/python3.6/dist-packages (from transformers) (0.9.4)\n",
            "Requirement already satisfied: dataclasses; python_version < \"3.7\" in /usr/local/lib/python3.6/dist-packages (from transformers) (0.8)\n",
            "Requirement already satisfied: numpy in /usr/local/lib/python3.6/dist-packages (from transformers) (1.19.5)\n",
            "Requirement already satisfied: requests in /usr/local/lib/python3.6/dist-packages (from transformers) (2.23.0)\n",
            "Requirement already satisfied: filelock in /usr/local/lib/python3.6/dist-packages (from transformers) (3.0.12)\n",
            "Requirement already satisfied: tqdm>=4.27 in /usr/local/lib/python3.6/dist-packages (from transformers) (4.41.1)\n",
            "Requirement already satisfied: importlib-metadata; python_version < \"3.8\" in /usr/local/lib/python3.6/dist-packages (from transformers) (3.3.0)\n",
            "Requirement already satisfied: click in /usr/local/lib/python3.6/dist-packages (from sacremoses->transformers) (7.1.2)\n",
            "Requirement already satisfied: six in /usr/local/lib/python3.6/dist-packages (from sacremoses->transformers) (1.15.0)\n",
            "Requirement already satisfied: joblib in /usr/local/lib/python3.6/dist-packages (from sacremoses->transformers) (1.0.0)\n",
            "Requirement already satisfied: pyparsing>=2.0.2 in /usr/local/lib/python3.6/dist-packages (from packaging->transformers) (2.4.7)\n",
            "Requirement already satisfied: idna<3,>=2.5 in /usr/local/lib/python3.6/dist-packages (from requests->transformers) (2.10)\n",
            "Requirement already satisfied: urllib3!=1.25.0,!=1.25.1,<1.26,>=1.21.1 in /usr/local/lib/python3.6/dist-packages (from requests->transformers) (1.24.3)\n",
            "Requirement already satisfied: chardet<4,>=3.0.2 in /usr/local/lib/python3.6/dist-packages (from requests->transformers) (3.0.4)\n",
            "Requirement already satisfied: certifi>=2017.4.17 in /usr/local/lib/python3.6/dist-packages (from requests->transformers) (2020.12.5)\n",
            "Requirement already satisfied: typing-extensions>=3.6.4; python_version < \"3.8\" in /usr/local/lib/python3.6/dist-packages (from importlib-metadata; python_version < \"3.8\"->transformers) (3.7.4.3)\n",
            "Requirement already satisfied: zipp>=0.5 in /usr/local/lib/python3.6/dist-packages (from importlib-metadata; python_version < \"3.8\"->transformers) (3.4.0)\n"
          ],
          "name": "stdout"
        }
      ]
    },
    {
      "cell_type": "code",
      "metadata": {
        "id": "lvxYNqndtO4u"
      },
      "source": [
        "enn=tokenizer(data1['preprocesed1'].to_list(),max_length=64,truncation=True,padding=True)"
      ],
      "execution_count": null,
      "outputs": []
    },
    {
      "cell_type": "code",
      "metadata": {
        "colab": {
          "base_uri": "https://localhost:8080/"
        },
        "id": "qzj1du-AA3BJ",
        "outputId": "179d6545-7f2c-475f-a2ff-304fcba6cf88"
      },
      "source": [
        "tokenizer.get_vocab"
      ],
      "execution_count": null,
      "outputs": [
        {
          "output_type": "execute_result",
          "data": {
            "text/plain": [
              "<bound method PreTrainedTokenizerFast.get_vocab of PreTrainedTokenizerFast(name_or_path='distilbert-base-uncased', vocab_size=30522, model_max_len=512, is_fast=True, padding_side='right', special_tokens={'unk_token': '[UNK]', 'sep_token': '[SEP]', 'pad_token': '[PAD]', 'cls_token': '[CLS]', 'mask_token': '[MASK]'})>"
            ]
          },
          "metadata": {
            "tags": []
          },
          "execution_count": 19
        }
      ]
    },
    {
      "cell_type": "code",
      "metadata": {
        "id": "ekk0VwP-isaT"
      },
      "source": [
        "def add_token_positions(encodings, answers,ending):\n",
        "    start_positions = []\n",
        "    end_positions = []\n",
        "    newww={}\n",
        "    for i in range(len(answers[:-1])):\n",
        "        start_positions.append(encodings.char_to_token(i, answers[i]))\n",
        "        end_positions.append(encodings.char_to_token(i+1, ending[i]))\n",
        "        if start_positions[-1] is None:\n",
        "            start_positions[-1] = tokenizer.model_max_length\n",
        "          \n",
        "        \n",
        "        if end_positions[-1] is None:\n",
        "            end_positions[-1] = encodings.char_to_token(i, ending[i] + 1)\n",
        "    newww.update({'start_positions': start_positions, 'end_positions': end_positions})\n",
        "    return newww\n",
        "\n",
        "b=add_token_positions(enn,list2,list4)"
      ],
      "execution_count": null,
      "outputs": []
    },
    {
      "cell_type": "code",
      "metadata": {
        "id": "k5J7Hl-FuYyL"
      },
      "source": [
        "j=0\n",
        "for i in b['start_positions']:\n",
        "  if i==None:\n",
        "    j+=1\n",
        "j"
      ],
      "execution_count": null,
      "outputs": []
    },
    {
      "cell_type": "code",
      "metadata": {
        "colab": {
          "base_uri": "https://localhost:8080/"
        },
        "id": "N0yXaHGrunx7",
        "outputId": "773abfc3-757f-4b5d-e192-0f6dd3626f78"
      },
      "source": [
        "k=0\n",
        "for i in b['end_positions']:\n",
        "  if i==None:\n",
        "    k+=1\n",
        "k"
      ],
      "execution_count": null,
      "outputs": [
        {
          "output_type": "execute_result",
          "data": {
            "text/plain": [
              "7469"
            ]
          },
          "metadata": {
            "tags": []
          },
          "execution_count": 22
        }
      ]
    },
    {
      "cell_type": "code",
      "metadata": {
        "id": "ZiXejRMfuPYB"
      },
      "source": [
        "ll=[]\n",
        "for i in enn['input_ids']:\n",
        "  ll.append(i)"
      ],
      "execution_count": null,
      "outputs": []
    },
    {
      "cell_type": "code",
      "metadata": {
        "id": "0CMzI1FD8F0X"
      },
      "source": [
        "def create_model():\n",
        "  xx1=tf.keras.layers.Input(shape=(3,),dtype=tf.float32,name='i2')\n",
        "  x1=tf.keras.layers.Input(shape=(64,),dtype=tf.float32,name='i1')\n",
        "  x=tf.keras.layers.Embedding(30522,256,mask_zero=True)(x1)\n",
        "  x=tf.keras.layers.LSTM(2048,activation='tanh',return_sequences=True,recurrent_dropout=0.3,kernel_regularizer=tf.keras.regularizers.l2(1e-4))(x)\n",
        "  for i in range(8):\n",
        "    x=tf.keras.layers.LayerNormalization(epsilon=1e-6)(x)\n",
        "    attention_output=tf.keras.layers.MultiHeadAttention(num_heads=8,key_dim=64,dropout=0.1)(x,x)\n",
        "    x = tf.keras.layers.Add()([attention_output,x])\n",
        "    x5=tf.keras.layers.Dense(256,activation='relu')(x)\n",
        "  representation = tf.keras.layers.LayerNormalization(epsilon=1e-6)(x5)\n",
        "  representation = tf.keras.layers.Flatten()(representation)\n",
        "  representation = tf.keras.layers.Dropout(0.5)(representation)\n",
        "  features=tf.keras.layers.Dense(128,activation='relu')(representation)\n",
        "  x2=tf.keras.layers.Dense(256,activation='relu')(xx1)\n",
        "  x2=tf.keras.layers.Dropout(0.4)(x2)\n",
        "  x2=tf.keras.layers.Dense(128,activation='relu')(x2)\n",
        "  f_x=tf.keras.layers.concatenate([features,x2])\n",
        "  f_x=tf.keras.layers.Dense(64,activation='relu')(f_x)\n",
        "  final1=tf.keras.layers.Dense(64,activation='softmax')(f_x)\n",
        "  final2=tf.keras.layers.Dense(64,activation='softmax')(f_x)\n",
        "  model=tf.keras.models.Model(inputs=[x1,xx1],outputs=[final1,final2])\n",
        "  return model"
      ],
      "execution_count": null,
      "outputs": []
    },
    {
      "cell_type": "code",
      "metadata": {
        "colab": {
          "base_uri": "https://localhost:8080/"
        },
        "id": "xpEgC19O_p3I",
        "outputId": "5d1d166b-23e9-4755-ae56-31615131747c"
      },
      "source": [
        "model1=create_model()"
      ],
      "execution_count": null,
      "outputs": [
        {
          "output_type": "stream",
          "text": [
            "WARNING:tensorflow:Layer lstm_7 will not use cuDNN kernel since it doesn't meet the cuDNN kernel criteria. It will use generic GPU kernel as fallback when running on GPU\n"
          ],
          "name": "stdout"
        }
      ]
    },
    {
      "cell_type": "code",
      "metadata": {
        "colab": {
          "base_uri": "https://localhost:8080/"
        },
        "id": "2E2YFFOU_sF8",
        "outputId": "0bc2c8d9-2dd7-44cd-fa59-b7abb9b877c6"
      },
      "source": [
        "model1.summary()"
      ],
      "execution_count": null,
      "outputs": [
        {
          "output_type": "stream",
          "text": [
            "Model: \"model_7\"\n",
            "__________________________________________________________________________________________________\n",
            "Layer (type)                    Output Shape         Param #     Connected to                     \n",
            "==================================================================================================\n",
            "i1 (InputLayer)                 [(None, 64)]         0                                            \n",
            "__________________________________________________________________________________________________\n",
            "embedding_7 (Embedding)         (None, 64, 256)      7813632     i1[0][0]                         \n",
            "__________________________________________________________________________________________________\n",
            "lstm_7 (LSTM)                   (None, 64, 2048)     18882560    embedding_7[0][0]                \n",
            "__________________________________________________________________________________________________\n",
            "layer_normalization_63 (LayerNo (None, 64, 2048)     4096        lstm_7[0][0]                     \n",
            "__________________________________________________________________________________________________\n",
            "multi_head_attention_56 (MultiH (None, 64, 2048)     4197888     layer_normalization_63[0][0]     \n",
            "                                                                 layer_normalization_63[0][0]     \n",
            "__________________________________________________________________________________________________\n",
            "add_56 (Add)                    (None, 64, 2048)     0           multi_head_attention_56[0][0]    \n",
            "                                                                 layer_normalization_63[0][0]     \n",
            "__________________________________________________________________________________________________\n",
            "layer_normalization_64 (LayerNo (None, 64, 2048)     4096        add_56[0][0]                     \n",
            "__________________________________________________________________________________________________\n",
            "multi_head_attention_57 (MultiH (None, 64, 2048)     4197888     layer_normalization_64[0][0]     \n",
            "                                                                 layer_normalization_64[0][0]     \n",
            "__________________________________________________________________________________________________\n",
            "add_57 (Add)                    (None, 64, 2048)     0           multi_head_attention_57[0][0]    \n",
            "                                                                 layer_normalization_64[0][0]     \n",
            "__________________________________________________________________________________________________\n",
            "layer_normalization_65 (LayerNo (None, 64, 2048)     4096        add_57[0][0]                     \n",
            "__________________________________________________________________________________________________\n",
            "multi_head_attention_58 (MultiH (None, 64, 2048)     4197888     layer_normalization_65[0][0]     \n",
            "                                                                 layer_normalization_65[0][0]     \n",
            "__________________________________________________________________________________________________\n",
            "add_58 (Add)                    (None, 64, 2048)     0           multi_head_attention_58[0][0]    \n",
            "                                                                 layer_normalization_65[0][0]     \n",
            "__________________________________________________________________________________________________\n",
            "layer_normalization_66 (LayerNo (None, 64, 2048)     4096        add_58[0][0]                     \n",
            "__________________________________________________________________________________________________\n",
            "multi_head_attention_59 (MultiH (None, 64, 2048)     4197888     layer_normalization_66[0][0]     \n",
            "                                                                 layer_normalization_66[0][0]     \n",
            "__________________________________________________________________________________________________\n",
            "add_59 (Add)                    (None, 64, 2048)     0           multi_head_attention_59[0][0]    \n",
            "                                                                 layer_normalization_66[0][0]     \n",
            "__________________________________________________________________________________________________\n",
            "layer_normalization_67 (LayerNo (None, 64, 2048)     4096        add_59[0][0]                     \n",
            "__________________________________________________________________________________________________\n",
            "multi_head_attention_60 (MultiH (None, 64, 2048)     4197888     layer_normalization_67[0][0]     \n",
            "                                                                 layer_normalization_67[0][0]     \n",
            "__________________________________________________________________________________________________\n",
            "add_60 (Add)                    (None, 64, 2048)     0           multi_head_attention_60[0][0]    \n",
            "                                                                 layer_normalization_67[0][0]     \n",
            "__________________________________________________________________________________________________\n",
            "layer_normalization_68 (LayerNo (None, 64, 2048)     4096        add_60[0][0]                     \n",
            "__________________________________________________________________________________________________\n",
            "multi_head_attention_61 (MultiH (None, 64, 2048)     4197888     layer_normalization_68[0][0]     \n",
            "                                                                 layer_normalization_68[0][0]     \n",
            "__________________________________________________________________________________________________\n",
            "add_61 (Add)                    (None, 64, 2048)     0           multi_head_attention_61[0][0]    \n",
            "                                                                 layer_normalization_68[0][0]     \n",
            "__________________________________________________________________________________________________\n",
            "layer_normalization_69 (LayerNo (None, 64, 2048)     4096        add_61[0][0]                     \n",
            "__________________________________________________________________________________________________\n",
            "multi_head_attention_62 (MultiH (None, 64, 2048)     4197888     layer_normalization_69[0][0]     \n",
            "                                                                 layer_normalization_69[0][0]     \n",
            "__________________________________________________________________________________________________\n",
            "add_62 (Add)                    (None, 64, 2048)     0           multi_head_attention_62[0][0]    \n",
            "                                                                 layer_normalization_69[0][0]     \n",
            "__________________________________________________________________________________________________\n",
            "layer_normalization_70 (LayerNo (None, 64, 2048)     4096        add_62[0][0]                     \n",
            "__________________________________________________________________________________________________\n",
            "multi_head_attention_63 (MultiH (None, 64, 2048)     4197888     layer_normalization_70[0][0]     \n",
            "                                                                 layer_normalization_70[0][0]     \n",
            "__________________________________________________________________________________________________\n",
            "add_63 (Add)                    (None, 64, 2048)     0           multi_head_attention_63[0][0]    \n",
            "                                                                 layer_normalization_70[0][0]     \n",
            "__________________________________________________________________________________________________\n",
            "dense_105 (Dense)               (None, 64, 256)      524544      add_63[0][0]                     \n",
            "__________________________________________________________________________________________________\n",
            "layer_normalization_71 (LayerNo (None, 64, 256)      512         dense_105[0][0]                  \n",
            "__________________________________________________________________________________________________\n",
            "i2 (InputLayer)                 [(None, 3)]          0                                            \n",
            "__________________________________________________________________________________________________\n",
            "flatten_7 (Flatten)             (None, 16384)        0           layer_normalization_71[0][0]     \n",
            "__________________________________________________________________________________________________\n",
            "dense_107 (Dense)               (None, 256)          1024        i2[0][0]                         \n",
            "__________________________________________________________________________________________________\n",
            "dropout_14 (Dropout)            (None, 16384)        0           flatten_7[0][0]                  \n",
            "__________________________________________________________________________________________________\n",
            "dropout_15 (Dropout)            (None, 256)          0           dense_107[0][0]                  \n",
            "__________________________________________________________________________________________________\n",
            "dense_106 (Dense)               (None, 128)          2097280     dropout_14[0][0]                 \n",
            "__________________________________________________________________________________________________\n",
            "dense_108 (Dense)               (None, 128)          32896       dropout_15[0][0]                 \n",
            "__________________________________________________________________________________________________\n",
            "concatenate_7 (Concatenate)     (None, 256)          0           dense_106[0][0]                  \n",
            "                                                                 dense_108[0][0]                  \n",
            "__________________________________________________________________________________________________\n",
            "dense_109 (Dense)               (None, 64)           16448       concatenate_7[0][0]              \n",
            "__________________________________________________________________________________________________\n",
            "dense_110 (Dense)               (None, 64)           4160        dense_109[0][0]                  \n",
            "__________________________________________________________________________________________________\n",
            "dense_111 (Dense)               (None, 64)           4160        dense_109[0][0]                  \n",
            "==================================================================================================\n",
            "Total params: 62,993,088\n",
            "Trainable params: 62,993,088\n",
            "Non-trainable params: 0\n",
            "__________________________________________________________________________________________________\n"
          ],
          "name": "stdout"
        }
      ]
    },
    {
      "cell_type": "code",
      "metadata": {
        "colab": {
          "base_uri": "https://localhost:8080/",
          "height": 42
        },
        "id": "AKmBSJhWAP8P",
        "outputId": "9608fde5-5f15-4f47-a2b4-6312d2c40d73"
      },
      "source": [
        "tf.keras.utils.plot_model(model = model1 , rankdir=\"LR\", dpi=72, show_shapes=True)"
      ],
      "execution_count": null,
      "outputs": [
        {
          "output_type": "execute_result",
          "data": {
            "image/png": "[encoded data removed]",
            "text/plain": [
              "<IPython.core.display.Image object>"
            ]
          },
          "metadata": {
            "tags": []
          },
          "execution_count": 27
        }
      ]
    },
    {
      "cell_type": "code",
      "metadata": {
        "id": "TvfzVu7jD7jB"
      },
      "source": [
        "startt=b['start_positions']\n",
        "endd=b['end_positions']"
      ],
      "execution_count": null,
      "outputs": []
    },
    {
      "cell_type": "code",
      "metadata": {
        "colab": {
          "base_uri": "https://localhost:8080/"
        },
        "id": "3tWTWTZTEvI-",
        "outputId": "002be266-3ce8-43e6-a5f5-30b37b333dbb"
      },
      "source": [
        "len(startt)"
      ],
      "execution_count": null,
      "outputs": [
        {
          "output_type": "execute_result",
          "data": {
            "text/plain": [
              "27479"
            ]
          },
          "metadata": {
            "tags": []
          },
          "execution_count": 30
        }
      ]
    },
    {
      "cell_type": "code",
      "metadata": {
        "colab": {
          "base_uri": "https://localhost:8080/"
        },
        "id": "dSNtna-TE9B7",
        "outputId": "b5f32937-509a-46f7-c7ca-6a4f4d585319"
      },
      "source": [
        "len(endd)"
      ],
      "execution_count": null,
      "outputs": [
        {
          "output_type": "execute_result",
          "data": {
            "text/plain": [
              "27479"
            ]
          },
          "metadata": {
            "tags": []
          },
          "execution_count": 31
        }
      ]
    },
    {
      "cell_type": "code",
      "metadata": {
        "id": "7m8jebkvMpEb"
      },
      "source": [
        "v2= tf.keras.utils.to_categorical(v2, 3)"
      ],
      "execution_count": null,
      "outputs": []
    },
    {
      "cell_type": "code",
      "metadata": {
        "id": "2lpKgi2UHQtv"
      },
      "source": [
        "v1=enn['input_ids'][:10000]\n",
        "v1=np.array(v1)\n",
        "v2=data1['sentiment'][:10000]\n",
        "v2 = np.asarray(v2).astype(np.float32)\n",
        "v3=startt[:10000]\n",
        "v3 = np.asarray(v3).astype(np.float32)\n",
        "v4=endd[:10000]\n",
        "v4 = np.asarray(v4).astype(np.float32)"
      ],
      "execution_count": null,
      "outputs": []
    },
    {
      "cell_type": "code",
      "metadata": {
        "id": "PcFMrtQfMrGK"
      },
      "source": [
        "j=0\n",
        "v5=[]\n",
        "for i in v4:\n",
        "  if i==None:\n",
        "    v5.append(-1)\n",
        "  else:\n",
        "    v5.append(i)"
      ],
      "execution_count": null,
      "outputs": []
    },
    {
      "cell_type": "code",
      "metadata": {
        "id": "mv7YCRw3M-b6"
      },
      "source": [
        "v5 = np.asarray(v5).astype(np.float32)"
      ],
      "execution_count": null,
      "outputs": []
    },
    {
      "cell_type": "code",
      "metadata": {
        "id": "pgcVrV6LAWj6"
      },
      "source": [
        "loss1 =tf.keras.losses.SparseCategoricalCrossentropy()\n",
        "loss2 =tf.keras.losses.SparseCategoricalCrossentropy()\n",
        "optimizer = tf.keras.optimizers.Adam(learning_rate=5e-5)\n",
        "model1.compile(optimizer=optimizer, loss=[loss1,loss2])"
      ],
      "execution_count": null,
      "outputs": []
    },
    {
      "cell_type": "code",
      "metadata": {
        "id": "HxpuoAq0FVth"
      },
      "source": [
        "model1.fit(x=[v1,v2],y=[v3,v5],batch_size=32,epochs=3)"
      ],
      "execution_count": null,
      "outputs": []
    },
    {
      "cell_type": "code",
      "metadata": {
        "id": "LNsLIkaKWLq_"
      },
      "source": [
        ""
      ],
      "execution_count": null,
      "outputs": []
    }
  ]
}